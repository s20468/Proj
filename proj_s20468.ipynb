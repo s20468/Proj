{
 "cells": [
  {
   "cell_type": "markdown",
   "metadata": {},
   "source": [
    "Zadanie:\n",
    "\n",
    "Na podstawie danych w pliku messy_data.csv przygotuj interaktywny dashboard do analizy danych.\n",
    "Etapy pracy domowej:\n",
    "1.\twstępna analiza danych i czyszczenie\n",
    "a.\tduplikaty\n",
    "b.\twartości odstające\n",
    "c.\tspójność\n",
    "d.\tbraki w danych\n",
    "e.\tskala wartości \n",
    "f.\tinne\n",
    "2.\twizualizacja rozkładu zmiennych, zależności ceny od innych zmiennych, liczebność kategorii \n",
    "3.\tbudowa modelu regresji ceny od pozostałych zmiennych. Istotne zmienne należy wybrać eliminacją wsteczną lub selekcją postępującą.\n",
    "4.\twizualizacja modelu regresji\n",
    "5.\tstworzenie dashboardu z powyższymi wizualizacjami i próbką danych w postaci tabeli. Dashboard powinien umożliwiać zmianę parametrów wykresów - np. zależność ceny od innej, wybranej przez użytkownika zmiennej\n",
    "\n",
    "Wszystkie wizualizacje i dane powinny zostać zaprezentowane w postaci dashboardu. Etapy czyszczenia danych i budowy modelu regresji należy zawrzeć w notatniku Jupytera (.ipynb)."
   ]
  },
  {
   "cell_type": "code",
   "execution_count": 81,
   "metadata": {},
   "outputs": [],
   "source": [
    "import pandas as pd\n",
    "import numpy as np\n",
    "\n",
    "import matplotlib.pyplot as plt\n",
    "import matplotlib\n",
    "import seaborn as sns\n",
    "import statsmodels.api as sm\n",
    "import statsmodels.formula.api as smf\n",
    "import plotly.graph_objects as go"
   ]
  },
  {
   "cell_type": "code",
   "execution_count": 82,
   "metadata": {},
   "outputs": [],
   "source": [
    "df = pd.read_csv('messy_data.csv', skipinitialspace=True)\n"
   ]
  },
  {
   "cell_type": "code",
   "execution_count": 83,
   "metadata": {},
   "outputs": [
    {
     "data": {
      "text/html": [
       "<div>\n",
       "<style scoped>\n",
       "    .dataframe tbody tr th:only-of-type {\n",
       "        vertical-align: middle;\n",
       "    }\n",
       "\n",
       "    .dataframe tbody tr th {\n",
       "        vertical-align: top;\n",
       "    }\n",
       "\n",
       "    .dataframe thead th {\n",
       "        text-align: right;\n",
       "    }\n",
       "</style>\n",
       "<table border=\"1\" class=\"dataframe\">\n",
       "  <thead>\n",
       "    <tr style=\"text-align: right;\">\n",
       "      <th></th>\n",
       "      <th>carat</th>\n",
       "      <th>clarity</th>\n",
       "      <th>color</th>\n",
       "      <th>cut</th>\n",
       "      <th>x dimension</th>\n",
       "      <th>y dimension</th>\n",
       "      <th>z dimension</th>\n",
       "      <th>depth</th>\n",
       "      <th>table</th>\n",
       "      <th>price</th>\n",
       "    </tr>\n",
       "  </thead>\n",
       "  <tbody>\n",
       "    <tr>\n",
       "      <th>0</th>\n",
       "      <td>0.50</td>\n",
       "      <td>IF</td>\n",
       "      <td>D</td>\n",
       "      <td>Ideal</td>\n",
       "      <td>5.1</td>\n",
       "      <td>5.15</td>\n",
       "      <td>3.20</td>\n",
       "      <td>61.5</td>\n",
       "      <td>NaN</td>\n",
       "      <td>3000.0</td>\n",
       "    </tr>\n",
       "    <tr>\n",
       "      <th>1</th>\n",
       "      <td>0.70</td>\n",
       "      <td>vvs2</td>\n",
       "      <td>E</td>\n",
       "      <td>premium</td>\n",
       "      <td>5.7</td>\n",
       "      <td>NaN</td>\n",
       "      <td>3.52</td>\n",
       "      <td>62.0</td>\n",
       "      <td>59.0</td>\n",
       "      <td>4500.0</td>\n",
       "    </tr>\n",
       "    <tr>\n",
       "      <th>2</th>\n",
       "      <td>NaN</td>\n",
       "      <td>Si2</td>\n",
       "      <td>h</td>\n",
       "      <td>Good</td>\n",
       "      <td>4.3</td>\n",
       "      <td>4.31</td>\n",
       "      <td>NaN</td>\n",
       "      <td>62.3</td>\n",
       "      <td>56.0</td>\n",
       "      <td>700.0</td>\n",
       "    </tr>\n",
       "    <tr>\n",
       "      <th>3</th>\n",
       "      <td>1.20</td>\n",
       "      <td>if</td>\n",
       "      <td>d</td>\n",
       "      <td>ideal</td>\n",
       "      <td>NaN</td>\n",
       "      <td>6.82</td>\n",
       "      <td>4.20</td>\n",
       "      <td>61.7</td>\n",
       "      <td>58.0</td>\n",
       "      <td>10000.0</td>\n",
       "    </tr>\n",
       "    <tr>\n",
       "      <th>4</th>\n",
       "      <td>0.90</td>\n",
       "      <td>I1</td>\n",
       "      <td>J</td>\n",
       "      <td>Fair</td>\n",
       "      <td>6.0</td>\n",
       "      <td>NaN</td>\n",
       "      <td>3.70</td>\n",
       "      <td>61.7</td>\n",
       "      <td>NaN</td>\n",
       "      <td>2400.0</td>\n",
       "    </tr>\n",
       "    <tr>\n",
       "      <th>...</th>\n",
       "      <td>...</td>\n",
       "      <td>...</td>\n",
       "      <td>...</td>\n",
       "      <td>...</td>\n",
       "      <td>...</td>\n",
       "      <td>...</td>\n",
       "      <td>...</td>\n",
       "      <td>...</td>\n",
       "      <td>...</td>\n",
       "      <td>...</td>\n",
       "    </tr>\n",
       "    <tr>\n",
       "      <th>195</th>\n",
       "      <td>0.45</td>\n",
       "      <td>si1</td>\n",
       "      <td>F</td>\n",
       "      <td>very good</td>\n",
       "      <td>4.9</td>\n",
       "      <td>4.89</td>\n",
       "      <td>NaN</td>\n",
       "      <td>62.4</td>\n",
       "      <td>59.0</td>\n",
       "      <td>2300.0</td>\n",
       "    </tr>\n",
       "    <tr>\n",
       "      <th>196</th>\n",
       "      <td>1.25</td>\n",
       "      <td>VVS2</td>\n",
       "      <td>H</td>\n",
       "      <td>Good</td>\n",
       "      <td>6.9</td>\n",
       "      <td>NaN</td>\n",
       "      <td>4.27</td>\n",
       "      <td>NaN</td>\n",
       "      <td>55.0</td>\n",
       "      <td>10400.0</td>\n",
       "    </tr>\n",
       "    <tr>\n",
       "      <th>197</th>\n",
       "      <td>0.55</td>\n",
       "      <td>i1</td>\n",
       "      <td>I</td>\n",
       "      <td>Premium</td>\n",
       "      <td>5.3</td>\n",
       "      <td>NaN</td>\n",
       "      <td>3.28</td>\n",
       "      <td>62.3</td>\n",
       "      <td>57.0</td>\n",
       "      <td>150000.0</td>\n",
       "    </tr>\n",
       "    <tr>\n",
       "      <th>198</th>\n",
       "      <td>0.85</td>\n",
       "      <td>Si2</td>\n",
       "      <td>E</td>\n",
       "      <td>fair</td>\n",
       "      <td>6.1</td>\n",
       "      <td>6.13</td>\n",
       "      <td>3.78</td>\n",
       "      <td>NaN</td>\n",
       "      <td>58.0</td>\n",
       "      <td>6300.0</td>\n",
       "    </tr>\n",
       "    <tr>\n",
       "      <th>199</th>\n",
       "      <td>NaN</td>\n",
       "      <td>VVS1</td>\n",
       "      <td>G</td>\n",
       "      <td>Very good</td>\n",
       "      <td>6.4</td>\n",
       "      <td>6.43</td>\n",
       "      <td>3.97</td>\n",
       "      <td>62.5</td>\n",
       "      <td>NaN</td>\n",
       "      <td>7500.0</td>\n",
       "    </tr>\n",
       "  </tbody>\n",
       "</table>\n",
       "<p>200 rows × 10 columns</p>\n",
       "</div>"
      ],
      "text/plain": [
       "     carat clarity color        cut  x dimension  y dimension  z dimension  \\\n",
       "0     0.50      IF     D      Ideal          5.1         5.15         3.20   \n",
       "1     0.70    vvs2     E    premium          5.7          NaN         3.52   \n",
       "2      NaN     Si2     h       Good          4.3         4.31          NaN   \n",
       "3     1.20      if     d      ideal          NaN         6.82         4.20   \n",
       "4     0.90      I1     J       Fair          6.0          NaN         3.70   \n",
       "..     ...     ...   ...        ...          ...          ...          ...   \n",
       "195   0.45     si1     F  very good          4.9         4.89          NaN   \n",
       "196   1.25    VVS2     H       Good          6.9          NaN         4.27   \n",
       "197   0.55      i1     I    Premium          5.3          NaN         3.28   \n",
       "198   0.85     Si2     E       fair          6.1         6.13         3.78   \n",
       "199    NaN    VVS1     G  Very good          6.4         6.43         3.97   \n",
       "\n",
       "     depth  table     price  \n",
       "0     61.5    NaN    3000.0  \n",
       "1     62.0   59.0    4500.0  \n",
       "2     62.3   56.0     700.0  \n",
       "3     61.7   58.0   10000.0  \n",
       "4     61.7    NaN    2400.0  \n",
       "..     ...    ...       ...  \n",
       "195   62.4   59.0    2300.0  \n",
       "196    NaN   55.0   10400.0  \n",
       "197   62.3   57.0  150000.0  \n",
       "198    NaN   58.0    6300.0  \n",
       "199   62.5    NaN    7500.0  \n",
       "\n",
       "[200 rows x 10 columns]"
      ]
     },
     "execution_count": 83,
     "metadata": {},
     "output_type": "execute_result"
    }
   ],
   "source": [
    "df.replace({\" \" : np.nan}, inplace=True)\n",
    "df"
   ]
  },
  {
   "cell_type": "markdown",
   "metadata": {},
   "source": [
    "Sparwdzenie brakujących wartości"
   ]
  },
  {
   "cell_type": "code",
   "execution_count": 84,
   "metadata": {},
   "outputs": [
    {
     "data": {
      "text/plain": [
       "carat           True\n",
       "clarity        False\n",
       "color          False\n",
       "cut            False\n",
       "x dimension     True\n",
       "y dimension     True\n",
       "z dimension     True\n",
       "depth           True\n",
       "table           True\n",
       "price           True\n",
       "dtype: bool"
      ]
     },
     "execution_count": 84,
     "metadata": {},
     "output_type": "execute_result"
    }
   ],
   "source": [
    "df.isna().any()"
   ]
  },
  {
   "cell_type": "markdown",
   "metadata": {},
   "source": [
    "Suma brakujących wartości"
   ]
  },
  {
   "cell_type": "code",
   "execution_count": 85,
   "metadata": {},
   "outputs": [
    {
     "data": {
      "text/plain": [
       "carat          50\n",
       "clarity         0\n",
       "color           0\n",
       "cut             0\n",
       "x dimension     3\n",
       "y dimension    64\n",
       "z dimension    48\n",
       "depth          67\n",
       "table          33\n",
       "price           4\n",
       "dtype: int64"
      ]
     },
     "execution_count": 85,
     "metadata": {},
     "output_type": "execute_result"
    }
   ],
   "source": [
    "df.isna().sum()"
   ]
  },
  {
   "cell_type": "markdown",
   "metadata": {},
   "source": [
    "Convert all string columns to lowercase for consistency"
   ]
  },
  {
   "cell_type": "code",
   "execution_count": 86,
   "metadata": {},
   "outputs": [],
   "source": [
    "string_columns = ['clarity', 'color', 'cut']\n",
    "df[string_columns] = df[string_columns].apply(lambda x: x.str.lower())\n"
   ]
  },
  {
   "cell_type": "markdown",
   "metadata": {},
   "source": [
    "Convert all numeric columns to numeric type"
   ]
  },
  {
   "cell_type": "code",
   "execution_count": 87,
   "metadata": {},
   "outputs": [],
   "source": [
    "numeric_columns = ['carat', 'x dimension', 'y dimension', 'z dimension', 'depth', 'table', 'price']\n",
    "df[numeric_columns] = df[numeric_columns].apply(pd.to_numeric, errors='coerce')"
   ]
  },
  {
   "cell_type": "markdown",
   "metadata": {},
   "source": [
    "Drop all prices where price > 100000"
   ]
  },
  {
   "cell_type": "code",
   "execution_count": 88,
   "metadata": {},
   "outputs": [],
   "source": [
    "threshold_price = 100000\n",
    "df = df[df['price'] <= threshold_price]\n"
   ]
  },
  {
   "cell_type": "markdown",
   "metadata": {},
   "source": [
    "Drop duplicates"
   ]
  },
  {
   "cell_type": "code",
   "execution_count": 89,
   "metadata": {},
   "outputs": [
    {
     "data": {
      "text/html": [
       "<div>\n",
       "<style scoped>\n",
       "    .dataframe tbody tr th:only-of-type {\n",
       "        vertical-align: middle;\n",
       "    }\n",
       "\n",
       "    .dataframe tbody tr th {\n",
       "        vertical-align: top;\n",
       "    }\n",
       "\n",
       "    .dataframe thead th {\n",
       "        text-align: right;\n",
       "    }\n",
       "</style>\n",
       "<table border=\"1\" class=\"dataframe\">\n",
       "  <thead>\n",
       "    <tr style=\"text-align: right;\">\n",
       "      <th></th>\n",
       "      <th>carat</th>\n",
       "      <th>clarity</th>\n",
       "      <th>color</th>\n",
       "      <th>cut</th>\n",
       "      <th>x dimension</th>\n",
       "      <th>y dimension</th>\n",
       "      <th>z dimension</th>\n",
       "      <th>depth</th>\n",
       "      <th>table</th>\n",
       "      <th>price</th>\n",
       "    </tr>\n",
       "  </thead>\n",
       "  <tbody>\n",
       "    <tr>\n",
       "      <th>0</th>\n",
       "      <td>0.50</td>\n",
       "      <td>if</td>\n",
       "      <td>d</td>\n",
       "      <td>ideal</td>\n",
       "      <td>5.1</td>\n",
       "      <td>5.15</td>\n",
       "      <td>3.20</td>\n",
       "      <td>61.5</td>\n",
       "      <td>NaN</td>\n",
       "      <td>3000.0</td>\n",
       "    </tr>\n",
       "    <tr>\n",
       "      <th>1</th>\n",
       "      <td>0.70</td>\n",
       "      <td>vvs2</td>\n",
       "      <td>e</td>\n",
       "      <td>premium</td>\n",
       "      <td>5.7</td>\n",
       "      <td>NaN</td>\n",
       "      <td>3.52</td>\n",
       "      <td>62.0</td>\n",
       "      <td>59.0</td>\n",
       "      <td>4500.0</td>\n",
       "    </tr>\n",
       "    <tr>\n",
       "      <th>2</th>\n",
       "      <td>NaN</td>\n",
       "      <td>si2</td>\n",
       "      <td>h</td>\n",
       "      <td>good</td>\n",
       "      <td>4.3</td>\n",
       "      <td>4.31</td>\n",
       "      <td>NaN</td>\n",
       "      <td>62.3</td>\n",
       "      <td>56.0</td>\n",
       "      <td>700.0</td>\n",
       "    </tr>\n",
       "    <tr>\n",
       "      <th>3</th>\n",
       "      <td>1.20</td>\n",
       "      <td>if</td>\n",
       "      <td>d</td>\n",
       "      <td>ideal</td>\n",
       "      <td>NaN</td>\n",
       "      <td>6.82</td>\n",
       "      <td>4.20</td>\n",
       "      <td>61.7</td>\n",
       "      <td>58.0</td>\n",
       "      <td>10000.0</td>\n",
       "    </tr>\n",
       "    <tr>\n",
       "      <th>4</th>\n",
       "      <td>0.90</td>\n",
       "      <td>i1</td>\n",
       "      <td>j</td>\n",
       "      <td>fair</td>\n",
       "      <td>6.0</td>\n",
       "      <td>NaN</td>\n",
       "      <td>3.70</td>\n",
       "      <td>61.7</td>\n",
       "      <td>NaN</td>\n",
       "      <td>2400.0</td>\n",
       "    </tr>\n",
       "    <tr>\n",
       "      <th>...</th>\n",
       "      <td>...</td>\n",
       "      <td>...</td>\n",
       "      <td>...</td>\n",
       "      <td>...</td>\n",
       "      <td>...</td>\n",
       "      <td>...</td>\n",
       "      <td>...</td>\n",
       "      <td>...</td>\n",
       "      <td>...</td>\n",
       "      <td>...</td>\n",
       "    </tr>\n",
       "    <tr>\n",
       "      <th>194</th>\n",
       "      <td>0.95</td>\n",
       "      <td>si1</td>\n",
       "      <td>g</td>\n",
       "      <td>ideal</td>\n",
       "      <td>6.4</td>\n",
       "      <td>6.42</td>\n",
       "      <td>3.96</td>\n",
       "      <td>NaN</td>\n",
       "      <td>56.0</td>\n",
       "      <td>7100.0</td>\n",
       "    </tr>\n",
       "    <tr>\n",
       "      <th>195</th>\n",
       "      <td>0.45</td>\n",
       "      <td>si1</td>\n",
       "      <td>f</td>\n",
       "      <td>very good</td>\n",
       "      <td>4.9</td>\n",
       "      <td>4.89</td>\n",
       "      <td>NaN</td>\n",
       "      <td>62.4</td>\n",
       "      <td>59.0</td>\n",
       "      <td>2300.0</td>\n",
       "    </tr>\n",
       "    <tr>\n",
       "      <th>196</th>\n",
       "      <td>1.25</td>\n",
       "      <td>vvs2</td>\n",
       "      <td>h</td>\n",
       "      <td>good</td>\n",
       "      <td>6.9</td>\n",
       "      <td>NaN</td>\n",
       "      <td>4.27</td>\n",
       "      <td>NaN</td>\n",
       "      <td>55.0</td>\n",
       "      <td>10400.0</td>\n",
       "    </tr>\n",
       "    <tr>\n",
       "      <th>198</th>\n",
       "      <td>0.85</td>\n",
       "      <td>si2</td>\n",
       "      <td>e</td>\n",
       "      <td>fair</td>\n",
       "      <td>6.1</td>\n",
       "      <td>6.13</td>\n",
       "      <td>3.78</td>\n",
       "      <td>NaN</td>\n",
       "      <td>58.0</td>\n",
       "      <td>6300.0</td>\n",
       "    </tr>\n",
       "    <tr>\n",
       "      <th>199</th>\n",
       "      <td>NaN</td>\n",
       "      <td>vvs1</td>\n",
       "      <td>g</td>\n",
       "      <td>very good</td>\n",
       "      <td>6.4</td>\n",
       "      <td>6.43</td>\n",
       "      <td>3.97</td>\n",
       "      <td>62.5</td>\n",
       "      <td>NaN</td>\n",
       "      <td>7500.0</td>\n",
       "    </tr>\n",
       "  </tbody>\n",
       "</table>\n",
       "<p>191 rows × 10 columns</p>\n",
       "</div>"
      ],
      "text/plain": [
       "     carat clarity color        cut  x dimension  y dimension  z dimension  \\\n",
       "0     0.50      if     d      ideal          5.1         5.15         3.20   \n",
       "1     0.70    vvs2     e    premium          5.7          NaN         3.52   \n",
       "2      NaN     si2     h       good          4.3         4.31          NaN   \n",
       "3     1.20      if     d      ideal          NaN         6.82         4.20   \n",
       "4     0.90      i1     j       fair          6.0          NaN         3.70   \n",
       "..     ...     ...   ...        ...          ...          ...          ...   \n",
       "194   0.95     si1     g      ideal          6.4         6.42         3.96   \n",
       "195   0.45     si1     f  very good          4.9         4.89          NaN   \n",
       "196   1.25    vvs2     h       good          6.9          NaN         4.27   \n",
       "198   0.85     si2     e       fair          6.1         6.13         3.78   \n",
       "199    NaN    vvs1     g  very good          6.4         6.43         3.97   \n",
       "\n",
       "     depth  table    price  \n",
       "0     61.5    NaN   3000.0  \n",
       "1     62.0   59.0   4500.0  \n",
       "2     62.3   56.0    700.0  \n",
       "3     61.7   58.0  10000.0  \n",
       "4     61.7    NaN   2400.0  \n",
       "..     ...    ...      ...  \n",
       "194    NaN   56.0   7100.0  \n",
       "195   62.4   59.0   2300.0  \n",
       "196    NaN   55.0  10400.0  \n",
       "198    NaN   58.0   6300.0  \n",
       "199   62.5    NaN   7500.0  \n",
       "\n",
       "[191 rows x 10 columns]"
      ]
     },
     "execution_count": 89,
     "metadata": {},
     "output_type": "execute_result"
    }
   ],
   "source": [
    "df = df.drop_duplicates()\n",
    "df"
   ]
  },
  {
   "cell_type": "markdown",
   "metadata": {},
   "source": [
    "Fill NaN by avarage values for each column"
   ]
  },
  {
   "cell_type": "code",
   "execution_count": 90,
   "metadata": {},
   "outputs": [
    {
     "name": "stderr",
     "output_type": "stream",
     "text": [
      "/var/folders/hh/x0mqlgtj6cxch2xk6mm0gt6h0000gn/T/ipykernel_56306/1818430782.py:1: FutureWarning:\n",
      "\n",
      "Dropping of nuisance columns in DataFrame reductions (with 'numeric_only=None') is deprecated; in a future version this will raise TypeError.  Select only valid columns before calling the reduction.\n",
      "\n"
     ]
    },
    {
     "data": {
      "text/html": [
       "<div>\n",
       "<style scoped>\n",
       "    .dataframe tbody tr th:only-of-type {\n",
       "        vertical-align: middle;\n",
       "    }\n",
       "\n",
       "    .dataframe tbody tr th {\n",
       "        vertical-align: top;\n",
       "    }\n",
       "\n",
       "    .dataframe thead th {\n",
       "        text-align: right;\n",
       "    }\n",
       "</style>\n",
       "<table border=\"1\" class=\"dataframe\">\n",
       "  <thead>\n",
       "    <tr style=\"text-align: right;\">\n",
       "      <th></th>\n",
       "      <th>carat</th>\n",
       "      <th>clarity</th>\n",
       "      <th>color</th>\n",
       "      <th>cut</th>\n",
       "      <th>x dimension</th>\n",
       "      <th>y dimension</th>\n",
       "      <th>z dimension</th>\n",
       "      <th>depth</th>\n",
       "      <th>table</th>\n",
       "      <th>price</th>\n",
       "    </tr>\n",
       "  </thead>\n",
       "  <tbody>\n",
       "    <tr>\n",
       "      <th>0</th>\n",
       "      <td>0.500000</td>\n",
       "      <td>if</td>\n",
       "      <td>d</td>\n",
       "      <td>ideal</td>\n",
       "      <td>5.100000</td>\n",
       "      <td>5.150000</td>\n",
       "      <td>3.200000</td>\n",
       "      <td>61.500000</td>\n",
       "      <td>56.867925</td>\n",
       "      <td>3000.0</td>\n",
       "    </tr>\n",
       "    <tr>\n",
       "      <th>1</th>\n",
       "      <td>0.700000</td>\n",
       "      <td>vvs2</td>\n",
       "      <td>e</td>\n",
       "      <td>premium</td>\n",
       "      <td>5.700000</td>\n",
       "      <td>5.856412</td>\n",
       "      <td>3.520000</td>\n",
       "      <td>62.000000</td>\n",
       "      <td>59.000000</td>\n",
       "      <td>4500.0</td>\n",
       "    </tr>\n",
       "    <tr>\n",
       "      <th>2</th>\n",
       "      <td>0.796552</td>\n",
       "      <td>si2</td>\n",
       "      <td>h</td>\n",
       "      <td>good</td>\n",
       "      <td>4.300000</td>\n",
       "      <td>4.310000</td>\n",
       "      <td>3.700966</td>\n",
       "      <td>62.300000</td>\n",
       "      <td>56.000000</td>\n",
       "      <td>700.0</td>\n",
       "    </tr>\n",
       "    <tr>\n",
       "      <th>3</th>\n",
       "      <td>1.200000</td>\n",
       "      <td>if</td>\n",
       "      <td>d</td>\n",
       "      <td>ideal</td>\n",
       "      <td>5.891534</td>\n",
       "      <td>6.820000</td>\n",
       "      <td>4.200000</td>\n",
       "      <td>61.700000</td>\n",
       "      <td>58.000000</td>\n",
       "      <td>10000.0</td>\n",
       "    </tr>\n",
       "    <tr>\n",
       "      <th>4</th>\n",
       "      <td>0.900000</td>\n",
       "      <td>i1</td>\n",
       "      <td>j</td>\n",
       "      <td>fair</td>\n",
       "      <td>6.000000</td>\n",
       "      <td>5.856412</td>\n",
       "      <td>3.700000</td>\n",
       "      <td>61.700000</td>\n",
       "      <td>56.867925</td>\n",
       "      <td>2400.0</td>\n",
       "    </tr>\n",
       "    <tr>\n",
       "      <th>...</th>\n",
       "      <td>...</td>\n",
       "      <td>...</td>\n",
       "      <td>...</td>\n",
       "      <td>...</td>\n",
       "      <td>...</td>\n",
       "      <td>...</td>\n",
       "      <td>...</td>\n",
       "      <td>...</td>\n",
       "      <td>...</td>\n",
       "      <td>...</td>\n",
       "    </tr>\n",
       "    <tr>\n",
       "      <th>194</th>\n",
       "      <td>0.950000</td>\n",
       "      <td>si1</td>\n",
       "      <td>g</td>\n",
       "      <td>ideal</td>\n",
       "      <td>6.400000</td>\n",
       "      <td>6.420000</td>\n",
       "      <td>3.960000</td>\n",
       "      <td>62.334127</td>\n",
       "      <td>56.000000</td>\n",
       "      <td>7100.0</td>\n",
       "    </tr>\n",
       "    <tr>\n",
       "      <th>195</th>\n",
       "      <td>0.450000</td>\n",
       "      <td>si1</td>\n",
       "      <td>f</td>\n",
       "      <td>very good</td>\n",
       "      <td>4.900000</td>\n",
       "      <td>4.890000</td>\n",
       "      <td>3.700966</td>\n",
       "      <td>62.400000</td>\n",
       "      <td>59.000000</td>\n",
       "      <td>2300.0</td>\n",
       "    </tr>\n",
       "    <tr>\n",
       "      <th>196</th>\n",
       "      <td>1.250000</td>\n",
       "      <td>vvs2</td>\n",
       "      <td>h</td>\n",
       "      <td>good</td>\n",
       "      <td>6.900000</td>\n",
       "      <td>5.856412</td>\n",
       "      <td>4.270000</td>\n",
       "      <td>62.334127</td>\n",
       "      <td>55.000000</td>\n",
       "      <td>10400.0</td>\n",
       "    </tr>\n",
       "    <tr>\n",
       "      <th>198</th>\n",
       "      <td>0.850000</td>\n",
       "      <td>si2</td>\n",
       "      <td>e</td>\n",
       "      <td>fair</td>\n",
       "      <td>6.100000</td>\n",
       "      <td>6.130000</td>\n",
       "      <td>3.780000</td>\n",
       "      <td>62.334127</td>\n",
       "      <td>58.000000</td>\n",
       "      <td>6300.0</td>\n",
       "    </tr>\n",
       "    <tr>\n",
       "      <th>199</th>\n",
       "      <td>0.796552</td>\n",
       "      <td>vvs1</td>\n",
       "      <td>g</td>\n",
       "      <td>very good</td>\n",
       "      <td>6.400000</td>\n",
       "      <td>6.430000</td>\n",
       "      <td>3.970000</td>\n",
       "      <td>62.500000</td>\n",
       "      <td>56.867925</td>\n",
       "      <td>7500.0</td>\n",
       "    </tr>\n",
       "  </tbody>\n",
       "</table>\n",
       "<p>191 rows × 10 columns</p>\n",
       "</div>"
      ],
      "text/plain": [
       "        carat clarity color        cut  x dimension  y dimension  z dimension  \\\n",
       "0    0.500000      if     d      ideal     5.100000     5.150000     3.200000   \n",
       "1    0.700000    vvs2     e    premium     5.700000     5.856412     3.520000   \n",
       "2    0.796552     si2     h       good     4.300000     4.310000     3.700966   \n",
       "3    1.200000      if     d      ideal     5.891534     6.820000     4.200000   \n",
       "4    0.900000      i1     j       fair     6.000000     5.856412     3.700000   \n",
       "..        ...     ...   ...        ...          ...          ...          ...   \n",
       "194  0.950000     si1     g      ideal     6.400000     6.420000     3.960000   \n",
       "195  0.450000     si1     f  very good     4.900000     4.890000     3.700966   \n",
       "196  1.250000    vvs2     h       good     6.900000     5.856412     4.270000   \n",
       "198  0.850000     si2     e       fair     6.100000     6.130000     3.780000   \n",
       "199  0.796552    vvs1     g  very good     6.400000     6.430000     3.970000   \n",
       "\n",
       "         depth      table    price  \n",
       "0    61.500000  56.867925   3000.0  \n",
       "1    62.000000  59.000000   4500.0  \n",
       "2    62.300000  56.000000    700.0  \n",
       "3    61.700000  58.000000  10000.0  \n",
       "4    61.700000  56.867925   2400.0  \n",
       "..         ...        ...      ...  \n",
       "194  62.334127  56.000000   7100.0  \n",
       "195  62.400000  59.000000   2300.0  \n",
       "196  62.334127  55.000000  10400.0  \n",
       "198  62.334127  58.000000   6300.0  \n",
       "199  62.500000  56.867925   7500.0  \n",
       "\n",
       "[191 rows x 10 columns]"
      ]
     },
     "execution_count": 90,
     "metadata": {},
     "output_type": "execute_result"
    }
   ],
   "source": [
    "df.fillna(df.mean(), inplace=True)\n",
    "df\n"
   ]
  },
  {
   "cell_type": "markdown",
   "metadata": {},
   "source": [
    "Wizualizacja rozkładu zmiennych, zależności ceny od innych zmiennych, liczebność kategorii "
   ]
  },
  {
   "cell_type": "markdown",
   "metadata": {},
   "source": [
    "Rozkład zmiennych numerycznych"
   ]
  },
  {
   "cell_type": "code",
   "execution_count": 91,
   "metadata": {},
   "outputs": [
    {
     "data": {
      "image/png": "[encoded data removed]",
      "text/plain": [
       "<Figure size 1440x720 with 7 Axes>"
      ]
     },
     "metadata": {},
     "output_type": "display_data"
    }
   ],
   "source": [
    "numeric_columns = ['carat', 'x dimension', 'y dimension', 'z dimension', 'depth', 'table', 'price']\n",
    "sns.set(style='whitegrid')\n",
    "plt.figure(figsize=(20, 10))\n",
    "\n",
    "for i, column in enumerate(numeric_columns, 1):\n",
    "    plt.subplot(2,4,i)\n",
    "    sns.histplot(df[column].dropna())\n",
    "    plt.title(f'Rozkład zmiennych dla {column}')\n",
    "\n",
    "plt.tight_layout()\n",
    "plt.show()"
   ]
  },
  {
   "cell_type": "markdown",
   "metadata": {},
   "source": [
    "Cena vs. inne wartości numeryczne"
   ]
  },
  {
   "cell_type": "code",
   "execution_count": 92,
   "metadata": {},
   "outputs": [
    {
     "data": {
      "image/png": "[encoded data removed]",
      "text/plain": [
       "<Figure size 1440x720 with 6 Axes>"
      ]
     },
     "metadata": {},
     "output_type": "display_data"
    }
   ],
   "source": [
    "sns.set(style='whitegrid')\n",
    "plt.figure(figsize=(20, 10))\n",
    "\n",
    "for i, column in enumerate(['carat', 'x dimension', 'y dimension', 'z dimension', 'depth', 'table'], 1):\n",
    "    plt.subplot(2,3,i)\n",
    "    sns.scatterplot(data=df, x=column, y='price')\n",
    "    plt.title(f'Cena vs. {column}')\n",
    "\n",
    "plt.tight_layout()\n",
    "plt.show()"
   ]
  },
  {
   "cell_type": "markdown",
   "metadata": {},
   "source": [
    "Liczebność kategorii"
   ]
  },
  {
   "cell_type": "code",
   "execution_count": 93,
   "metadata": {},
   "outputs": [
    {
     "data": {
      "image/png": "[encoded data removed]",
      "text/plain": [
       "<Figure size 2160x1440 with 3 Axes>"
      ]
     },
     "metadata": {},
     "output_type": "display_data"
    }
   ],
   "source": [
    "sns.set(style='whitegrid')\n",
    "plt.figure(figsize=(30, 20))\n",
    "\n",
    "for i, column in enumerate(['clarity', 'color', 'cut'], 1):\n",
    "    plt.subplot(2,3,i)\n",
    "    sns.countplot(data=df, x=column)\n",
    "    plt.title(f'Liczebność {column} kategorii')\n",
    "\n",
    "plt.tight_layout()\n",
    "plt.show()"
   ]
  },
  {
   "cell_type": "markdown",
   "metadata": {},
   "source": [
    "Budowa modelu regresji ceny od pozostałych zmiennych. Istotne zmienne należy wybrać eliminacją wsteczną lub selekcją postępującą."
   ]
  },
  {
   "cell_type": "code",
   "execution_count": 94,
   "metadata": {},
   "outputs": [
    {
     "name": "stdout",
     "output_type": "stream",
     "text": [
      "                            OLS Regression Results                            \n",
      "==============================================================================\n",
      "Dep. Variable:                  price   R-squared:                       0.843\n",
      "Model:                            OLS   Adj. R-squared:                  0.838\n",
      "Method:                 Least Squares   F-statistic:                     165.3\n",
      "Date:                Sat, 03 Feb 2024   Prob (F-statistic):           2.48e-71\n",
      "Time:                        11:42:14   Log-Likelihood:                -1630.2\n",
      "No. Observations:                 191   AIC:                             3274.\n",
      "Df Residuals:                     184   BIC:                             3297.\n",
      "Df Model:                           6                                         \n",
      "Covariance Type:            nonrobust                                         \n",
      "===============================================================================\n",
      "                  coef    std err          t      P>|t|      [0.025      0.975]\n",
      "-------------------------------------------------------------------------------\n",
      "Intercept   -5.849e+04   2.53e+04     -2.308      0.022   -1.08e+05   -8501.223\n",
      "carat        1474.5478    744.679      1.980      0.049       5.340    2943.755\n",
      "x_dimension  2813.8013    455.258      6.181      0.000    1915.605    3711.997\n",
      "y_dimension  -233.2908    274.700     -0.849      0.397    -775.258     308.677\n",
      "z_dimension   936.9622    458.026      2.046      0.042      33.304    1840.620\n",
      "depth         412.4918    400.419      1.030      0.304    -377.510    1202.494\n",
      "table         319.9161     71.952      4.446      0.000     177.960     461.872\n",
      "==============================================================================\n",
      "Omnibus:                       51.261   Durbin-Watson:                   2.367\n",
      "Prob(Omnibus):                  0.000   Jarque-Bera (JB):              156.934\n",
      "Skew:                          -1.075   Prob(JB):                     8.36e-35\n",
      "Kurtosis:                       6.885   Cond. No.                     2.37e+04\n",
      "==============================================================================\n",
      "\n",
      "Notes:\n",
      "[1] Standard Errors assume that the covariance matrix of the errors is correctly specified.\n",
      "[2] The condition number is large, 2.37e+04. This might indicate that there are\n",
      "strong multicollinearity or other numerical problems.\n"
     ]
    }
   ],
   "source": [
    "df = df.rename(columns={'x dimension': 'x_dimension', 'y dimension': 'y_dimension', 'z dimension': 'z_dimension'})\n",
    "\n",
    "model = smf.ols(formula=\"price ~ carat + x_dimension + y_dimension + z_dimension + depth + table\", data=df).fit()\n",
    "\n",
    "print(model.summary())"
   ]
  },
  {
   "cell_type": "markdown",
   "metadata": {},
   "source": [
    "Wizualizacja modelu regresji"
   ]
  },
  {
   "cell_type": "code",
   "execution_count": 95,
   "metadata": {},
   "outputs": [],
   "source": [
    "df[\"fitted\"] = model.fittedvalues\n",
    "fig = go.Figure()"
   ]
  },
  {
   "cell_type": "code",
   "execution_count": 96,
   "metadata": {},
   "outputs": [
    {
     "data": {
      "application/vnd.plotly.v1+json": {
       "config": {
        "plotlyServerURL": "https://plot.ly"
       },
       "data": [
        {
         "mode": "markers",
         "name": "Price",
         "type": "scatter",
         "x": [
          3000,
          4500,
          700,
          10000,
          2400,
          4200,
          3100,
          1500,
          7500,
          1400,
          2000,
          9200,
          1800,
          2300,
          2200,
          2100,
          6000,
          10500,
          11000,
          800,
          3400,
          500,
          1300,
          1600,
          2500,
          7700,
          2900,
          10800,
          2600,
          9300,
          1700,
          2800,
          2700,
          9400,
          8500,
          2200,
          1500,
          5900,
          4800,
          7300,
          2700,
          1400,
          2600,
          1200,
          9500,
          3800,
          3300,
          11200,
          600,
          2900,
          9900,
          8100,
          1400,
          9800,
          2100,
          1700,
          3700,
          5000,
          900,
          4600,
          2500,
          9600,
          1800,
          2300,
          7900,
          4000,
          6600,
          3100,
          1100,
          10200,
          3500,
          2800,
          9900,
          4700,
          2600,
          2200,
          6500,
          1900,
          7100,
          7800,
          6700,
          3200,
          2400,
          2600,
          9200,
          3000,
          4100,
          3600,
          10300,
          2300,
          3400,
          8000,
          4400,
          11500,
          2500,
          1500,
          6800,
          7300,
          3100,
          3300,
          7700,
          5900,
          9300,
          7900,
          4200,
          9800,
          2700,
          2900,
          6500,
          10100,
          3000,
          7400,
          2600,
          4600,
          7200,
          3600,
          6800,
          9500,
          7600,
          2100,
          4300,
          2200,
          6300,
          10400,
          2800,
          7800,
          3400,
          10200,
          3200,
          6400,
          2300,
          9300,
          2400,
          10100,
          2600,
          4500,
          6900,
          9600,
          3100,
          7700,
          3300,
          4000,
          7900,
          10300,
          4300,
          2100,
          7400,
          6500,
          4100,
          2600,
          10100,
          3200,
          3500,
          12000,
          8000,
          4600,
          9400,
          2200,
          2400,
          4400,
          10700,
          7900,
          6900,
          3600,
          2500,
          6600,
          10500,
          3100,
          7100,
          7600,
          2500,
          9900,
          8100,
          4200,
          3300,
          10100,
          9200,
          2100,
          4900,
          7900,
          2900,
          9900,
          3400,
          9800,
          2000,
          7700,
          7100,
          2300,
          10400,
          6300,
          7500
         ],
         "y": [
          1956.476492811118,
          4963.0264607723075,
          860.3956005233485,
          6207.914541292208,
          5464.896754120877,
          5254.380665847129,
          1833.9300919693014,
          1158.6960252246754,
          7642.702086551781,
          1377.2251453636964,
          3696.5365389570907,
          8107.957984059722,
          3235.9350938290554,
          2139.4646648205417,
          3998.8435739487686,
          4717.225619629047,
          5796.1408220793455,
          10687.555123172137,
          9974.302870058338,
          858.3020387144315,
          9916.55862075531,
          -2061.2080204498743,
          550.7062071166656,
          806.3773941056497,
          3199.395173136825,
          8128.258419268437,
          4364.902265891171,
          10512.88787404728,
          6048.48552707073,
          8627.345923316876,
          1815.1964485957287,
          4325.758411469109,
          3261.3851095500904,
          7303.568792820926,
          7618.949787888072,
          4469.048298892729,
          907.4039149155033,
          6450.9598434705,
          4446.475151544448,
          6762.453007028493,
          4621.5082892731225,
          84.15642125829982,
          2902.4195396878677,
          1532.4770993197853,
          8487.906583350308,
          4806.882006817876,
          4200.334676326391,
          11038.433096651246,
          -16.157071022455057,
          3397.1517658893863,
          9401.584020185852,
          8762.443313152391,
          1115.0722714987933,
          8026.178977782234,
          5248.631306605461,
          1842.4910880067655,
          4059.1899146546057,
          6380.23153041273,
          16.07816711997657,
          4662.51857716899,
          4263.510109484239,
          8192.377047095379,
          766.5910230787886,
          2916.6173523476027,
          8029.697546897605,
          4535.379133548951,
          6873.320367762601,
          2907.7065802037323,
          338.37119567193804,
          9401.444223184095,
          4121.214773472111,
          2934.299099633583,
          9475.742724599422,
          5287.732876588914,
          5095.390433906949,
          1733.4002044937988,
          6002.523176540955,
          4348.123467378762,
          6692.683544020027,
          6558.303898112808,
          7056.532550523552,
          3298.2433919707582,
          3603.569697603052,
          905.4195605558089,
          8387.566426566274,
          4425.322306967333,
          4982.3795906831365,
          4049.542517696078,
          9653.537721299883,
          1833.1214659109282,
          3950.51601418238,
          6820.9499848775195,
          5157.478627327746,
          10727.886605309755,
          4880.207979294191,
          973.4996165060984,
          6466.987507039346,
          7836.755543262581,
          3639.35346089401,
          3791.929037938935,
          7123.474571543968,
          5640.006486073795,
          9071.041106104465,
          6979.6019121973695,
          4528.342419480778,
          9593.632117733916,
          575.1523080872539,
          5140.557105207146,
          5676.921740127742,
          7735.706103613746,
          2126.445059918402,
          8183.007424999534,
          760.1996605059794,
          4581.956814865371,
          6430.829759558106,
          3589.3507187034884,
          7020.000433772031,
          8079.683069592149,
          7506.75757244337,
          1347.3596739703025,
          3867.0979793808983,
          3384.1928023960572,
          5790.926112432193,
          9661.849846490015,
          3393.9005632359404,
          7273.470545797383,
          3805.9644760901174,
          10233.46434460858,
          2636.570958060347,
          5992.172037509736,
          4932.795458584078,
          7932.8795823058135,
          226.18436162269427,
          9250.524596825697,
          5350.8728044247655,
          4882.190157160814,
          7411.718892264784,
          8645.138847470258,
          3524.570019276547,
          7244.889209640976,
          3803.6315680624466,
          5919.812311328147,
          7655.344290774097,
          9780.31035209883,
          4188.3133124870255,
          2253.996508865501,
          7859.77688659916,
          6120.844477933038,
          4792.127187946629,
          1925.4861902264747,
          8787.287498686546,
          2928.855048897327,
          3415.6733886599795,
          11056.11484393723,
          6225.703737616586,
          5841.934823801315,
          8574.725883492294,
          951.3658485711567,
          4339.275326652718,
          5090.2321692621335,
          10713.090145696282,
          6963.911742826662,
          7014.353100781314,
          3413.302490647151,
          4639.9307145285675,
          7028.761823336095,
          8878.186220040952,
          2381.544556558605,
          6769.515767377292,
          7268.642355233493,
          1402.2260154530632,
          9502.876806190074,
          7556.816566541009,
          4498.859803828516,
          4343.401076355258,
          8826.181400091307,
          8197.118843121043,
          722.70165936591,
          5924.091981559439,
          7244.889209640976,
          2250.1065480087673,
          9568.6239541127,
          3721.4653935383685,
          8761.861623231303,
          856.646966401513,
          6967.631534167889,
          6760.184135266616,
          2903.358151087741,
          8711.47112827386,
          6307.422334891729,
          6887.038339125131
         ]
        },
        {
         "mode": "lines",
         "name": "X vs Y Line",
         "type": "scatter",
         "x": [
          3000,
          4500,
          700,
          10000,
          2400,
          4200,
          3100,
          1500,
          7500,
          1400,
          2000,
          9200,
          1800,
          2300,
          2200,
          2100,
          6000,
          10500,
          11000,
          800,
          3400,
          500,
          1300,
          1600,
          2500,
          7700,
          2900,
          10800,
          2600,
          9300,
          1700,
          2800,
          2700,
          9400,
          8500,
          2200,
          1500,
          5900,
          4800,
          7300,
          2700,
          1400,
          2600,
          1200,
          9500,
          3800,
          3300,
          11200,
          600,
          2900,
          9900,
          8100,
          1400,
          9800,
          2100,
          1700,
          3700,
          5000,
          900,
          4600,
          2500,
          9600,
          1800,
          2300,
          7900,
          4000,
          6600,
          3100,
          1100,
          10200,
          3500,
          2800,
          9900,
          4700,
          2600,
          2200,
          6500,
          1900,
          7100,
          7800,
          6700,
          3200,
          2400,
          2600,
          9200,
          3000,
          4100,
          3600,
          10300,
          2300,
          3400,
          8000,
          4400,
          11500,
          2500,
          1500,
          6800,
          7300,
          3100,
          3300,
          7700,
          5900,
          9300,
          7900,
          4200,
          9800,
          2700,
          2900,
          6500,
          10100,
          3000,
          7400,
          2600,
          4600,
          7200,
          3600,
          6800,
          9500,
          7600,
          2100,
          4300,
          2200,
          6300,
          10400,
          2800,
          7800,
          3400,
          10200,
          3200,
          6400,
          2300,
          9300,
          2400,
          10100,
          2600,
          4500,
          6900,
          9600,
          3100,
          7700,
          3300,
          4000,
          7900,
          10300,
          4300,
          2100,
          7400,
          6500,
          4100,
          2600,
          10100,
          3200,
          3500,
          12000,
          8000,
          4600,
          9400,
          2200,
          2400,
          4400,
          10700,
          7900,
          6900,
          3600,
          2500,
          6600,
          10500,
          3100,
          7100,
          7600,
          2500,
          9900,
          8100,
          4200,
          3300,
          10100,
          9200,
          2100,
          4900,
          7900,
          2900,
          9900,
          3400,
          9800,
          2000,
          7700,
          7100,
          2300,
          10400,
          6300,
          7500
         ],
         "y": [
          3000,
          4500,
          700,
          10000,
          2400,
          4200,
          3100,
          1500,
          7500,
          1400,
          2000,
          9200,
          1800,
          2300,
          2200,
          2100,
          6000,
          10500,
          11000,
          800,
          3400,
          500,
          1300,
          1600,
          2500,
          7700,
          2900,
          10800,
          2600,
          9300,
          1700,
          2800,
          2700,
          9400,
          8500,
          2200,
          1500,
          5900,
          4800,
          7300,
          2700,
          1400,
          2600,
          1200,
          9500,
          3800,
          3300,
          11200,
          600,
          2900,
          9900,
          8100,
          1400,
          9800,
          2100,
          1700,
          3700,
          5000,
          900,
          4600,
          2500,
          9600,
          1800,
          2300,
          7900,
          4000,
          6600,
          3100,
          1100,
          10200,
          3500,
          2800,
          9900,
          4700,
          2600,
          2200,
          6500,
          1900,
          7100,
          7800,
          6700,
          3200,
          2400,
          2600,
          9200,
          3000,
          4100,
          3600,
          10300,
          2300,
          3400,
          8000,
          4400,
          11500,
          2500,
          1500,
          6800,
          7300,
          3100,
          3300,
          7700,
          5900,
          9300,
          7900,
          4200,
          9800,
          2700,
          2900,
          6500,
          10100,
          3000,
          7400,
          2600,
          4600,
          7200,
          3600,
          6800,
          9500,
          7600,
          2100,
          4300,
          2200,
          6300,
          10400,
          2800,
          7800,
          3400,
          10200,
          3200,
          6400,
          2300,
          9300,
          2400,
          10100,
          2600,
          4500,
          6900,
          9600,
          3100,
          7700,
          3300,
          4000,
          7900,
          10300,
          4300,
          2100,
          7400,
          6500,
          4100,
          2600,
          10100,
          3200,
          3500,
          12000,
          8000,
          4600,
          9400,
          2200,
          2400,
          4400,
          10700,
          7900,
          6900,
          3600,
          2500,
          6600,
          10500,
          3100,
          7100,
          7600,
          2500,
          9900,
          8100,
          4200,
          3300,
          10100,
          9200,
          2100,
          4900,
          7900,
          2900,
          9900,
          3400,
          9800,
          2000,
          7700,
          7100,
          2300,
          10400,
          6300,
          7500
         ]
        }
       ],
       "layout": {
        "template": {
         "data": {
          "bar": [
           {
            "error_x": {
             "color": "#2a3f5f"
            },
            "error_y": {
             "color": "#2a3f5f"
            },
            "marker": {
             "line": {
              "color": "#E5ECF6",
              "width": 0.5
             },
             "pattern": {
              "fillmode": "overlay",
              "size": 10,
              "solidity": 0.2
             }
            },
            "type": "bar"
           }
          ],
          "barpolar": [
           {
            "marker": {
             "line": {
              "color": "#E5ECF6",
              "width": 0.5
             },
             "pattern": {
              "fillmode": "overlay",
              "size": 10,
              "solidity": 0.2
             }
            },
            "type": "barpolar"
           }
          ],
          "carpet": [
           {
            "aaxis": {
             "endlinecolor": "#2a3f5f",
             "gridcolor": "white",
             "linecolor": "white",
             "minorgridcolor": "white",
             "startlinecolor": "#2a3f5f"
            },
            "baxis": {
             "endlinecolor": "#2a3f5f",
             "gridcolor": "white",
             "linecolor": "white",
             "minorgridcolor": "white",
             "startlinecolor": "#2a3f5f"
            },
            "type": "carpet"
           }
          ],
          "choropleth": [
           {
            "colorbar": {
             "outlinewidth": 0,
             "ticks": ""
            },
            "type": "choropleth"
           }
          ],
          "contour": [
           {
            "colorbar": {
             "outlinewidth": 0,
             "ticks": ""
            },
            "colorscale": [
             [
              0,
              "#0d0887"
             ],
             [
              0.1111111111111111,
              "#46039f"
             ],
             [
              0.2222222222222222,
              "#7201a8"
             ],
             [
              0.3333333333333333,
              "#9c179e"
             ],
             [
              0.4444444444444444,
              "#bd3786"
             ],
             [
              0.5555555555555556,
              "#d8576b"
             ],
             [
              0.6666666666666666,
              "#ed7953"
             ],
             [
              0.7777777777777778,
              "#fb9f3a"
             ],
             [
              0.8888888888888888,
              "#fdca26"
             ],
             [
              1,
              "#f0f921"
             ]
            ],
            "type": "contour"
           }
          ],
          "contourcarpet": [
           {
            "colorbar": {
             "outlinewidth": 0,
             "ticks": ""
            },
            "type": "contourcarpet"
           }
          ],
          "heatmap": [
           {
            "colorbar": {
             "outlinewidth": 0,
             "ticks": ""
            },
            "colorscale": [
             [
              0,
              "#0d0887"
             ],
             [
              0.1111111111111111,
              "#46039f"
             ],
             [
              0.2222222222222222,
              "#7201a8"
             ],
             [
              0.3333333333333333,
              "#9c179e"
             ],
             [
              0.4444444444444444,
              "#bd3786"
             ],
             [
              0.5555555555555556,
              "#d8576b"
             ],
             [
              0.6666666666666666,
              "#ed7953"
             ],
             [
              0.7777777777777778,
              "#fb9f3a"
             ],
             [
              0.8888888888888888,
              "#fdca26"
             ],
             [
              1,
              "#f0f921"
             ]
            ],
            "type": "heatmap"
           }
          ],
          "heatmapgl": [
           {
            "colorbar": {
             "outlinewidth": 0,
             "ticks": ""
            },
            "colorscale": [
             [
              0,
              "#0d0887"
             ],
             [
              0.1111111111111111,
              "#46039f"
             ],
             [
              0.2222222222222222,
              "#7201a8"
             ],
             [
              0.3333333333333333,
              "#9c179e"
             ],
             [
              0.4444444444444444,
              "#bd3786"
             ],
             [
              0.5555555555555556,
              "#d8576b"
             ],
             [
              0.6666666666666666,
              "#ed7953"
             ],
             [
              0.7777777777777778,
              "#fb9f3a"
             ],
             [
              0.8888888888888888,
              "#fdca26"
             ],
             [
              1,
              "#f0f921"
             ]
            ],
            "type": "heatmapgl"
           }
          ],
          "histogram": [
           {
            "marker": {
             "pattern": {
              "fillmode": "overlay",
              "size": 10,
              "solidity": 0.2
             }
            },
            "type": "histogram"
           }
          ],
          "histogram2d": [
           {
            "colorbar": {
             "outlinewidth": 0,
             "ticks": ""
            },
            "colorscale": [
             [
              0,
              "#0d0887"
             ],
             [
              0.1111111111111111,
              "#46039f"
             ],
             [
              0.2222222222222222,
              "#7201a8"
             ],
             [
              0.3333333333333333,
              "#9c179e"
             ],
             [
              0.4444444444444444,
              "#bd3786"
             ],
             [
              0.5555555555555556,
              "#d8576b"
             ],
             [
              0.6666666666666666,
              "#ed7953"
             ],
             [
              0.7777777777777778,
              "#fb9f3a"
             ],
             [
              0.8888888888888888,
              "#fdca26"
             ],
             [
              1,
              "#f0f921"
             ]
            ],
            "type": "histogram2d"
           }
          ],
          "histogram2dcontour": [
           {
            "colorbar": {
             "outlinewidth": 0,
             "ticks": ""
            },
            "colorscale": [
             [
              0,
              "#0d0887"
             ],
             [
              0.1111111111111111,
              "#46039f"
             ],
             [
              0.2222222222222222,
              "#7201a8"
             ],
             [
              0.3333333333333333,
              "#9c179e"
             ],
             [
              0.4444444444444444,
              "#bd3786"
             ],
             [
              0.5555555555555556,
              "#d8576b"
             ],
             [
              0.6666666666666666,
              "#ed7953"
             ],
             [
              0.7777777777777778,
              "#fb9f3a"
             ],
             [
              0.8888888888888888,
              "#fdca26"
             ],
             [
              1,
              "#f0f921"
             ]
            ],
            "type": "histogram2dcontour"
           }
          ],
          "mesh3d": [
           {
            "colorbar": {
             "outlinewidth": 0,
             "ticks": ""
            },
            "type": "mesh3d"
           }
          ],
          "parcoords": [
           {
            "line": {
             "colorbar": {
              "outlinewidth": 0,
              "ticks": ""
             }
            },
            "type": "parcoords"
           }
          ],
          "pie": [
           {
            "automargin": true,
            "type": "pie"
           }
          ],
          "scatter": [
           {
            "fillpattern": {
             "fillmode": "overlay",
             "size": 10,
             "solidity": 0.2
            },
            "type": "scatter"
           }
          ],
          "scatter3d": [
           {
            "line": {
             "colorbar": {
              "outlinewidth": 0,
              "ticks": ""
             }
            },
            "marker": {
             "colorbar": {
              "outlinewidth": 0,
              "ticks": ""
             }
            },
            "type": "scatter3d"
           }
          ],
          "scattercarpet": [
           {
            "marker": {
             "colorbar": {
              "outlinewidth": 0,
              "ticks": ""
             }
            },
            "type": "scattercarpet"
           }
          ],
          "scattergeo": [
           {
            "marker": {
             "colorbar": {
              "outlinewidth": 0,
              "ticks": ""
             }
            },
            "type": "scattergeo"
           }
          ],
          "scattergl": [
           {
            "marker": {
             "colorbar": {
              "outlinewidth": 0,
              "ticks": ""
             }
            },
            "type": "scattergl"
           }
          ],
          "scattermapbox": [
           {
            "marker": {
             "colorbar": {
              "outlinewidth": 0,
              "ticks": ""
             }
            },
            "type": "scattermapbox"
           }
          ],
          "scatterpolar": [
           {
            "marker": {
             "colorbar": {
              "outlinewidth": 0,
              "ticks": ""
             }
            },
            "type": "scatterpolar"
           }
          ],
          "scatterpolargl": [
           {
            "marker": {
             "colorbar": {
              "outlinewidth": 0,
              "ticks": ""
             }
            },
            "type": "scatterpolargl"
           }
          ],
          "scatterternary": [
           {
            "marker": {
             "colorbar": {
              "outlinewidth": 0,
              "ticks": ""
             }
            },
            "type": "scatterternary"
           }
          ],
          "surface": [
           {
            "colorbar": {
             "outlinewidth": 0,
             "ticks": ""
            },
            "colorscale": [
             [
              0,
              "#0d0887"
             ],
             [
              0.1111111111111111,
              "#46039f"
             ],
             [
              0.2222222222222222,
              "#7201a8"
             ],
             [
              0.3333333333333333,
              "#9c179e"
             ],
             [
              0.4444444444444444,
              "#bd3786"
             ],
             [
              0.5555555555555556,
              "#d8576b"
             ],
             [
              0.6666666666666666,
              "#ed7953"
             ],
             [
              0.7777777777777778,
              "#fb9f3a"
             ],
             [
              0.8888888888888888,
              "#fdca26"
             ],
             [
              1,
              "#f0f921"
             ]
            ],
            "type": "surface"
           }
          ],
          "table": [
           {
            "cells": {
             "fill": {
              "color": "#EBF0F8"
             },
             "line": {
              "color": "white"
             }
            },
            "header": {
             "fill": {
              "color": "#C8D4E3"
             },
             "line": {
              "color": "white"
             }
            },
            "type": "table"
           }
          ]
         },
         "layout": {
          "annotationdefaults": {
           "arrowcolor": "#2a3f5f",
           "arrowhead": 0,
           "arrowwidth": 1
          },
          "autotypenumbers": "strict",
          "coloraxis": {
           "colorbar": {
            "outlinewidth": 0,
            "ticks": ""
           }
          },
          "colorscale": {
           "diverging": [
            [
             0,
             "#8e0152"
            ],
            [
             0.1,
             "#c51b7d"
            ],
            [
             0.2,
             "#de77ae"
            ],
            [
             0.3,
             "#f1b6da"
            ],
            [
             0.4,
             "#fde0ef"
            ],
            [
             0.5,
             "#f7f7f7"
            ],
            [
             0.6,
             "#e6f5d0"
            ],
            [
             0.7,
             "#b8e186"
            ],
            [
             0.8,
             "#7fbc41"
            ],
            [
             0.9,
             "#4d9221"
            ],
            [
             1,
             "#276419"
            ]
           ],
           "sequential": [
            [
             0,
             "#0d0887"
            ],
            [
             0.1111111111111111,
             "#46039f"
            ],
            [
             0.2222222222222222,
             "#7201a8"
            ],
            [
             0.3333333333333333,
             "#9c179e"
            ],
            [
             0.4444444444444444,
             "#bd3786"
            ],
            [
             0.5555555555555556,
             "#d8576b"
            ],
            [
             0.6666666666666666,
             "#ed7953"
            ],
            [
             0.7777777777777778,
             "#fb9f3a"
            ],
            [
             0.8888888888888888,
             "#fdca26"
            ],
            [
             1,
             "#f0f921"
            ]
           ],
           "sequentialminus": [
            [
             0,
             "#0d0887"
            ],
            [
             0.1111111111111111,
             "#46039f"
            ],
            [
             0.2222222222222222,
             "#7201a8"
            ],
            [
             0.3333333333333333,
             "#9c179e"
            ],
            [
             0.4444444444444444,
             "#bd3786"
            ],
            [
             0.5555555555555556,
             "#d8576b"
            ],
            [
             0.6666666666666666,
             "#ed7953"
            ],
            [
             0.7777777777777778,
             "#fb9f3a"
            ],
            [
             0.8888888888888888,
             "#fdca26"
            ],
            [
             1,
             "#f0f921"
            ]
           ]
          },
          "colorway": [
           "#636efa",
           "#EF553B",
           "#00cc96",
           "#ab63fa",
           "#FFA15A",
           "#19d3f3",
           "#FF6692",
           "#B6E880",
           "#FF97FF",
           "#FECB52"
          ],
          "font": {
           "color": "#2a3f5f"
          },
          "geo": {
           "bgcolor": "white",
           "lakecolor": "white",
           "landcolor": "#E5ECF6",
           "showlakes": true,
           "showland": true,
           "subunitcolor": "white"
          },
          "hoverlabel": {
           "align": "left"
          },
          "hovermode": "closest",
          "mapbox": {
           "style": "light"
          },
          "paper_bgcolor": "white",
          "plot_bgcolor": "#E5ECF6",
          "polar": {
           "angularaxis": {
            "gridcolor": "white",
            "linecolor": "white",
            "ticks": ""
           },
           "bgcolor": "#E5ECF6",
           "radialaxis": {
            "gridcolor": "white",
            "linecolor": "white",
            "ticks": ""
           }
          },
          "scene": {
           "xaxis": {
            "backgroundcolor": "#E5ECF6",
            "gridcolor": "white",
            "gridwidth": 2,
            "linecolor": "white",
            "showbackground": true,
            "ticks": "",
            "zerolinecolor": "white"
           },
           "yaxis": {
            "backgroundcolor": "#E5ECF6",
            "gridcolor": "white",
            "gridwidth": 2,
            "linecolor": "white",
            "showbackground": true,
            "ticks": "",
            "zerolinecolor": "white"
           },
           "zaxis": {
            "backgroundcolor": "#E5ECF6",
            "gridcolor": "white",
            "gridwidth": 2,
            "linecolor": "white",
            "showbackground": true,
            "ticks": "",
            "zerolinecolor": "white"
           }
          },
          "shapedefaults": {
           "line": {
            "color": "#2a3f5f"
           }
          },
          "ternary": {
           "aaxis": {
            "gridcolor": "white",
            "linecolor": "white",
            "ticks": ""
           },
           "baxis": {
            "gridcolor": "white",
            "linecolor": "white",
            "ticks": ""
           },
           "bgcolor": "#E5ECF6",
           "caxis": {
            "gridcolor": "white",
            "linecolor": "white",
            "ticks": ""
           }
          },
          "title": {
           "x": 0.05
          },
          "xaxis": {
           "automargin": true,
           "gridcolor": "white",
           "linecolor": "white",
           "ticks": "",
           "title": {
            "standoff": 15
           },
           "zerolinecolor": "white",
           "zerolinewidth": 2
          },
          "yaxis": {
           "automargin": true,
           "gridcolor": "white",
           "linecolor": "white",
           "ticks": "",
           "title": {
            "standoff": 15
           },
           "zerolinecolor": "white",
           "zerolinewidth": 2
          }
         }
        },
        "title": {
         "text": "Fitted Values vs. Original Values of Diamonds"
        },
        "xaxis": {
         "title": {
          "text": "Original Values of Diamonds"
         }
        },
        "yaxis": {
         "title": {
          "text": "Fitted Values"
         }
        }
       }
      }
     },
     "metadata": {},
     "output_type": "display_data"
    }
   ],
   "source": [
    "fig.add_trace(go.Scatter(x=df[\"price\"], y=df[\"fitted\"], mode='markers', name='Price'))\n",
    "fig.add_trace(go.Scatter(x=df[\"price\"], y=df[\"price\"], mode='lines', name='X vs Y Line'))\n",
    "\n",
    "fig.update_layout(title=\"Fitted Values vs. Original Values of Diamonds\",\n",
    "                  xaxis_title=\"Original Values of Diamonds\",\n",
    "                  yaxis_title=\"Fitted Values\")\n",
    "\n",
    "fig.show()\n"
   ]
  },
  {
   "cell_type": "markdown",
   "metadata": {},
   "source": [
    "Stworzenie dashboardu z powyższymi wizualizacjami i próbką danych w postaci tabeli. Dashboard powinien umożliwiać zmianę parametrów wykresów - np. zależność ceny od innej, wybranej przez użytkownika zmiennej"
   ]
  },
  {
   "cell_type": "markdown",
   "metadata": {},
   "source": [
    "Streamlit/plotly - dashdoard.py. Run: run dashboard.py"
   ]
  }
 ],
 "metadata": {
  "kernelspec": {
   "display_name": "Python 3",
   "language": "python",
   "name": "python3"
  },
  "language_info": {
   "codemirror_mode": {
    "name": "ipython",
    "version": 3
   },
   "file_extension": ".py",
   "mimetype": "text/x-python",
   "name": "python",
   "nbconvert_exporter": "python",
   "pygments_lexer": "ipython3",
   "version": "3.9.7"
  }
 },
 "nbformat": 4,
 "nbformat_minor": 2
}
